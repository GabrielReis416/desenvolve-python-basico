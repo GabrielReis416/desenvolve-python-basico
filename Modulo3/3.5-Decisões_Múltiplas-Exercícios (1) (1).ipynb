{
 "cells": [
  {
   "cell_type": "markdown",
   "id": "559687a1",
   "metadata": {},
   "source": [
    "# Módulo 3 - Condicionais\n",
    "\n",
    "## 3.5 - Decisões Múltiplas"
   ]
  },
  {
   "cell_type": "markdown",
   "id": "42f823b3",
   "metadata": {},
   "source": [
    "### Q1.\n",
    "\n",
    "Vamos fazer uma calculadora! Escreva um programa que solicita 3 entradas: o primeiro operando (float), o operador (caracter) e o segundo operando (float). Seu programa deve imprimir o resultado da operação solicitada, entre soma (+), subtração (-), divisão (/), multiplicação (\\*) ou potência (\\*\\*). Seu programa também deve imprimir uma mensagem de erro se a operação solicitada não estiver dentre as opções disponíveis.\n",
    "\n",
    "Seguem alguns exemplos de interação com seu código no terminal. \n",
    "\n",
    "\n",
    "```\n",
    "Digite o primeiro operando: 5.2\n",
    "Digite o operador (+, -, /, *, **): *\n",
    "Digite o segundo operando` 3\n",
    "Resultado: 5.2 * 3.0 = 15.6\n",
    "```\n",
    "\n",
    "```\n",
    "Digite o primeiro operando: 8\n",
    "Digite o operador (+, -, /, *, **): **\n",
    "Digite o segundo operando: 2\n",
    "Resultado: 8.0 * 2.0 = 64.0\n",
    "```\n",
    "\n",
    "```\n",
    "Digite o primeiro operando: 7\n",
    "Digite o operador (+, -, /, *, **): %\n",
    "Digite o segundo operando: 3.4\n",
    "Erro! Operação inválida. \n",
    "```\n",
    "\n",
    "```\n",
    "Digite o primeiro operando: 10\n",
    "Digite o operador (+, -, /, *, **): /\n",
    "Digite o segundo operando: 2.5\n",
    "Resultado: 10.0 / 2.5 = 4.0\n",
    "```\n",
    "\n"
   ]
  },
  {
   "cell_type": "code",
   "execution_count": 7,
   "id": "c5b8cd4d",
   "metadata": {},
   "outputs": [
    {
     "name": "stdout",
     "output_type": "stream",
     "text": [
      "Digite o primeiro operando:  1\n",
      "Digite o operador (+, -, *, /, **):  +\n",
      "Digite o segundo operando:  5\n"
     ]
    },
    {
     "name": "stdout",
     "output_type": "stream",
     "text": [
      "Resultado: 6.0\n"
     ]
    }
   ],
   "source": [
    "def calculadora():\n",
    "    try:\n",
    "        primeiro_operando = float(input(\"Digite o primeiro operando: \"))\n",
    "        operador = input(\"Digite o operador (+, -, *, /, **): \")\n",
    "        segundo_operando = float(input(\"Digite o segundo operando: \"))\n",
    "        \n",
    "        if operador == \"+\":\n",
    "            resultado = primeiro_operando + segundo_operando\n",
    "        elif operador == \"-\":\n",
    "            resultado = primeiro_operando - segundo_operando\n",
    "        elif operador == \"*\":\n",
    "            resultado = primeiro_operando * segundo_operando\n",
    "        elif operador == \"/\":\n",
    "            if segundo_operando != 0:\n",
    "                resultado = primeiro_operando / segundo_operando\n",
    "            else:\n",
    "                print(\"Erro: Divisão por zero não permitida.\")\n",
    "                return\n",
    "        elif operador == \"**\":\n",
    "            resultado = primeiro_operando ** segundo_operando\n",
    "        else:\n",
    "            print(\"Erro: Operação inválida.\")\n",
    "            return\n",
    "        \n",
    "        print(f\"Resultado: {resultado}\")\n",
    "    \n",
    "    except ValueError:\n",
    "        print(\"Erro: Entrada inválida. Por favor, insira números válidos.\")\n",
    "\n",
    "calculadora()\n"
   ]
  },
  {
   "cell_type": "markdown",
   "id": "d135df39",
   "metadata": {},
   "source": [
    "### Q2.\n",
    "\n",
    "Escreva um programa que leia os comprimentos dos 3 lados de um triângulo e diga se o triângulo é equilátero, isóceles ou escaleno. Regras:\n",
    "- Isóceles: Quaisquer dois lados com o mesmo comprimento\n",
    "- Equilátero: Os três lados tem o mesmo comprimento\n",
    "- Escaleno: Três lados de comprimento diferente \n",
    "\n",
    "Note que a ordem das condições importa! Seguem alguns exemplos de interação com seu código no terminal. \n",
    "\n",
    "```\n",
    "Digite o comprimento do lado 1: 4\n",
    "Digite o comprimento do lado 2: 4\n",
    "Digite o comprimento do lado 3: 6\n",
    "Triângulo: Isóceles\n",
    "```\n",
    "\n",
    "```\n",
    "Digite o comprimento do lado 1: 5\n",
    "Digite o comprimento do lado 2: 5\n",
    "Digite o comprimento do lado 3: 5\n",
    "Triângulo: Equilátero\n",
    "```\n",
    "\n",
    "```\n",
    "Digite o comprimento do lado 1: 7\n",
    "Digite o comprimento do lado 2: 4\n",
    "Digite o comprimento do lado 3: 9\n",
    "Triângulo: Escaleno\n",
    "```\n",
    "\n"
   ]
  },
  {
   "cell_type": "code",
   "execution_count": 9,
   "id": "cfcf9a80",
   "metadata": {},
   "outputs": [
    {
     "name": "stdout",
     "output_type": "stream",
     "text": [
      "Digite o comprimento do lado 1:  1\n",
      "Digite o comprimento do lado 2:  1\n",
      "Digite o comprimento do lado 3:  1\n"
     ]
    },
    {
     "name": "stdout",
     "output_type": "stream",
     "text": [
      "Triângulo: Equilátero\n"
     ]
    }
   ],
   "source": [
    "def tipo_de_triangulo():\n",
    "   \n",
    "    lado1 = float(input(\"Digite o comprimento do lado 1: \"))\n",
    "    lado2 = float(input(\"Digite o comprimento do lado 2: \"))\n",
    "    lado3 = float(input(\"Digite o comprimento do lado 3: \"))\n",
    "    \n",
    "    \n",
    "    if lado1 == lado2 == lado3:\n",
    "        print(\"Triângulo: Equilátero\")\n",
    "    elif lado1 == lado2 or lado2 == lado3 or lado1 == lado3:\n",
    "        print(\"Triângulo: Isóceles\")\n",
    "    else:\n",
    "        print(\"Triângulo: Escaleno\")\n",
    "\n",
    "\n",
    "tipo_de_triangulo()\n"
   ]
  },
  {
   "cell_type": "markdown",
   "id": "ed3405fb",
   "metadata": {},
   "source": [
    "### Q3.\n",
    "\n",
    "Você está desenvolvendo um sistema de avaliação de desempenho para um jogo. Escreva um programa em Python que avalia a pontuação do jogador em uma missão e atribui uma classificação com base nas seguintes condições:\n",
    "\n",
    "- Se a pontuação for menor que 70, atribua a classificação \"Insatisfatório\".\n",
    "- Se a pontuação for maior ou igual a 70, atribua a classificação \"Regular\".\n",
    "- Se a pontuação for maior ou igual a 80, atribua a classificação \"Bom\".\n",
    "- Se a pontuação for maior ou igual a 90, atribua a classificação \"Excelente\".\n",
    "\n",
    "Escreva um programa que solicita ao usuário a pontuação e imprime a classificação correspondente."
   ]
  },
  {
   "cell_type": "code",
   "execution_count": 48,
   "id": "a7a842ae",
   "metadata": {},
   "outputs": [
    {
     "name": "stdout",
     "output_type": "stream",
     "text": [
      "Digite a pontuação do jogador:  72\n"
     ]
    },
    {
     "name": "stdout",
     "output_type": "stream",
     "text": [
      "Regular\n"
     ]
    }
   ],
   "source": [
    "\n",
    "pontuacao = float(input(\"Digite a pontuação do jogador: \"))\n",
    "65\n",
    "if pontuacao >= 90:\n",
    "        print(\"Excelente\")\n",
    "elif pontuacao >= 80:\n",
    "        print(\"Bom\")\n",
    "elif pontuacao >= 70:\n",
    "        print(\"Regular\")\n",
    "else:\n",
    "        print(\"Insatisfatório\")\n",
    "\n"
   ]
  },
  {
   "cell_type": "markdown",
   "id": "6cafaa50",
   "metadata": {},
   "source": [
    "### Q4.\n",
    "\n",
    "Você está implementando um sistema de desconto em uma loja online. Escreva um programa em Python que calcula o desconto com base no valor total da compra e atribui diferentes níveis de desconto de acordo com as seguintes condições:\n",
    "\n",
    "- Se o valor total da compra for menor que R\\$ 50, não há desconto.\n",
    "- Se o valor total da compra for maior ou igual a R\\$ 50, atribua um desconto de 10%.\n",
    "- Se o valor total da compra for maior ou igual a R\\$ 100, atribua um desconto de 20%.\n",
    "\n",
    "\n",
    "Seguem alguns exemplos de interação com seu código no terminal. Preste atenção na formatação esperada para as saídas.\n",
    "\n",
    "```\n",
    "Digite o valor total da compra: 120\n",
    "Desconto aplicado: 20.0%\n",
    "Valor final com desconto: R$96.00\n",
    "```\n",
    "\n",
    "```\n",
    "Digite o valor total da compra: 65\n",
    "Desconto aplicado: 10.0%\n",
    "Valor final com desconto: R$58.50\n",
    "```\n",
    "\n",
    "```\n",
    "Digite o valor total da compra: 40\n",
    "Desconto aplicado: 0.0%\n",
    "Valor final com desconto: R$40.00\n",
    "```\n",
    "\n",
    "\n"
   ]
  },
  {
   "cell_type": "code",
   "execution_count": 50,
   "id": "3b1b1929",
   "metadata": {},
   "outputs": [
    {
     "name": "stdout",
     "output_type": "stream",
     "text": [
      "Digite o valor total da compra:  1000\n"
     ]
    },
    {
     "name": "stdout",
     "output_type": "stream",
     "text": [
      "Desconto aplicado: 20%\n",
      "Valor final com desconto: R$800.00\n"
     ]
    }
   ],
   "source": [
    "def calcular_desconto():\n",
    "    \n",
    "    valor_compra = float(input(\"Digite o valor total da compra: \"))\n",
    "    \n",
    "    if valor_compra >= 100:\n",
    "        desconto = 20  \n",
    "    elif valor_compra >= 50:\n",
    "        desconto = 10  \n",
    "    else:\n",
    "        desconto = 0   \n",
    "    \n",
    "    \n",
    "    valor_desconto = (valor_compra * desconto) / 100\n",
    "    \n",
    "    \n",
    "    valor_final = valor_compra - valor_desconto\n",
    "    \n",
    "    \n",
    "    print(f\"Desconto aplicado: {desconto}%\")\n",
    "    print(f\"Valor final com desconto: R${valor_final:.2f}\")\n",
    "\n",
    "\n",
    "calcular_desconto()\n"
   ]
  },
  {
   "cell_type": "markdown",
   "id": "dc5db6d7",
   "metadata": {},
   "source": [
    "### Q5.\n",
    "\n",
    "Crie um sistema de autenticação em Python. O sistema deve funcionar da\n",
    "seguinte maneira:\n",
    "\n",
    "1. Um banco de dados fictício deve ser implementado como um dicionário,\n",
    "onde a chave é o nome do usuário e o valor é uma tupla contendo a senha e\n",
    "o nível de acesso do usuário.\n",
    "\n",
    "2. O programa deve solicitar ao usuário que insira seu usuário e senha.\n",
    "\n",
    "3. O sistema deve:\n",
    "* Verificar se o login existe no banco de dados.\n",
    "* Comparar a senha fornecida com a armazenada no banco.\n",
    "* Caso as credenciais sejam válidas, exibir uma mensagem de sucesso e o nível de acesso do usuário.\n",
    "* Caso seja inválido deverá retornar mensagem: “Erro: Usuário ou\n",
    "senha inválidos.”\n",
    "* O programa deve rodar em um laço para permitir múltiplas\n",
    "tentativas de login, mas também permitir que o usuário opte por sair\n",
    "do programa.\n",
    "\n",
    "Atributos dos 3 usuários cadastrados no sistema (usuário, senha e nível)\n",
    "\n",
    "1) admin – admin123 – Administrador\n",
    "2) usuario1 – senha123 – Usuário Comum\n",
    "3) visitante1 – guest2024 – Visitante"
   ]
  },
  {
   "cell_type": "code",
   "execution_count": null,
   "id": "b90304eb",
   "metadata": {},
   "outputs": [
    {
     "name": "stdout",
     "output_type": "stream",
     "text": [
      "Digite o nome de usuário:  gabriel\n",
      "Digite a senha:  efef\n"
     ]
    },
    {
     "name": "stdout",
     "output_type": "stream",
     "text": [
      "Erro: Usuário ou senha inválidos.\n"
     ]
    },
    {
     "name": "stdout",
     "output_type": "stream",
     "text": [
      "Deseja tentar novamente? (s/n):  s\n",
      "Digite o nome de usuário:  admin\n",
      "Digite a senha:  admin@123\n"
     ]
    },
    {
     "name": "stdout",
     "output_type": "stream",
     "text": [
      "Erro: Usuário ou senha inválidos.\n"
     ]
    },
    {
     "name": "stdout",
     "output_type": "stream",
     "text": [
      "Deseja tentar novamente? (s/n):  s\n",
      "Digite o nome de usuário:  admin123\n",
      "Digite a senha:  admin\n"
     ]
    },
    {
     "name": "stdout",
     "output_type": "stream",
     "text": [
      "Erro: Usuário ou senha inválidos.\n"
     ]
    },
    {
     "name": "stdout",
     "output_type": "stream",
     "text": [
      "Deseja tentar novamente? (s/n):  s\n"
     ]
    }
   ],
   "source": [
    "usuarios_db = {\n",
    "    \"admin\": (\"admin123\", \"Administrador\"),\n",
    "    \"usuario1\": (\"senha123\", \"Usuário Comum\"),\n",
    "    \"visitante1\": (\"guest2024\", \"Visitante\")\n",
    "}\n",
    "\n",
    "\n",
    "\n",
    "while True:\n",
    "       \n",
    "        usuario = input(\"Digite o nome de usuário: \")\n",
    "        \n",
    "        \n",
    "        if usuario.lower() == \"sair\":\n",
    "            print(\"Saindo do sistema.\")\n",
    "            break\n",
    "        \n",
    "        \n",
    "        senha = input(\"Digite a senha: \")\n",
    "\n",
    "        \n",
    "        if usuario in usuarios_db:\n",
    "            \n",
    "            senha_armazenada, nivel_acesso = usuarios_db[usuario]\n",
    "            if senha == senha_armazenada:\n",
    "                \n",
    "                print(f\"Login bem-sucedido! Nível de acesso: {nivel_acesso}\")\n",
    "                break\n",
    "            else:\n",
    "               \n",
    "                print(\"Erro: Usuário ou senha inválidos.\")\n",
    "        else:\n",
    "            \n",
    "            print(\"Erro: Usuário ou senha inválidos.\")\n",
    "        \n",
    "        \n",
    "        tentativas = input(\"Deseja tentar novamente? (s/n): \")\n",
    "        if tentativas.lower() != \"s\":\n",
    "            print(\"Saindo do sistema.\")\n",
    "            break\n"
   ]
  },
  {
   "cell_type": "code",
   "execution_count": null,
   "id": "c9c3f387-3a9a-44ca-a1f3-95add15faf19",
   "metadata": {},
   "outputs": [],
   "source": []
  }
 ],
 "metadata": {
  "kernelspec": {
   "display_name": "Python 3 (ipykernel)",
   "language": "python",
   "name": "python3"
  },
  "language_info": {
   "codemirror_mode": {
    "name": "ipython",
    "version": 3
   },
   "file_extension": ".py",
   "mimetype": "text/x-python",
   "name": "python",
   "nbconvert_exporter": "python",
   "pygments_lexer": "ipython3",
   "version": "3.12.4"
  }
 },
 "nbformat": 4,
 "nbformat_minor": 5
}
