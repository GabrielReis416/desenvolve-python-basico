{
 "cells": [
  {
   "cell_type": "markdown",
   "id": "29e89030",
   "metadata": {},
   "source": [
    "# Módulo 4 - Repetições\n",
    "\n",
    "## Aulas 4.2 - Comando ```for``` e 4.3 Break e Continue"
   ]
  },
  {
   "cell_type": "markdown",
   "id": "a45b42df",
   "metadata": {},
   "source": [
    "### Q1.\n",
    "\n",
    "Crie um programa em Python que utilize o comando for para imprimir os números de 10 a 1, em ordem decrescente."
   ]
  },
  {
   "cell_type": "code",
   "execution_count": 1,
   "id": "55a75b3d",
   "metadata": {},
   "outputs": [
    {
     "name": "stdout",
     "output_type": "stream",
     "text": [
      "10\n",
      "9\n",
      "8\n",
      "7\n",
      "6\n",
      "5\n",
      "4\n",
      "3\n",
      "2\n",
      "1\n"
     ]
    }
   ],
   "source": [
    "for n in range (10, 0 , -1):\n",
    "    print(n)\n",
    "\n"
   ]
  },
  {
   "cell_type": "markdown",
   "id": "94b47c36",
   "metadata": {},
   "source": [
    "### Q2.\n",
    "\n",
    "Dado um número inteiro positivo informado pelo usuário, crie um programa em Python que utilize o comando for para calcular e exibir a soma dos números de 1 até o número informado. Ou seja, $1 + 2 + 3 + ... + n$\n",
    "\n",
    "Exemplo de interação:\n",
    "```\n",
    "Digite um número: 5\n",
    "A soma dos números de 1 a 5 é 15\n",
    "```\n"
   ]
  },
  {
   "cell_type": "code",
   "execution_count": 5,
   "id": "45b71596",
   "metadata": {},
   "outputs": [
    {
     "name": "stdout",
     "output_type": "stream",
     "text": [
      "Digite um numero:  30\n"
     ]
    },
    {
     "name": "stdout",
     "output_type": "stream",
     "text": [
      "A soma dos números de 1 até 30 é: 465\n"
     ]
    }
   ],
   "source": [
    "n = int(input(\"Digite um numero: \"))\n",
    "soma = 0\n",
    "\n",
    "for i in range(1, n + 1):\n",
    " soma += i\n",
    "\n",
    "print(f\"A soma dos números de 1 até {n} é: {soma}\")"
   ]
  },
  {
   "cell_type": "markdown",
   "id": "0411d170",
   "metadata": {},
   "source": [
    "### Q3.\n",
    "\n",
    "Escreva um programa que lê 10 valores inteiros positivos do usuário e ao final imprime a média dos valores digitados com duas casas decimais.\n",
    "\n",
    "```\n",
    "Digite 10 números positivos:\n",
    "3\n",
    "2\n",
    "12\n",
    "14\n",
    "20\n",
    "42\n",
    "19\n",
    "0\n",
    "8\n",
    "1\n",
    "A média dos valores digitados é 12.10\n",
    "```"
   ]
  },
  {
   "cell_type": "code",
   "execution_count": null,
   "id": "3f72f358",
   "metadata": {},
   "outputs": [],
   "source": [
    "n1 = int(input(\"Digite 1 numero: \"))\n",
    "n2 = int(input(\"Digite 1 numero: \"))\n",
    "n3 = int(input(\"Digite 1 numero: \"))\n",
    "n4 = int(input(\"Digite 1 numero: \"))\n",
    "n5 = int(input(\"Digite 1 numero: \"))\n",
    "n6 = int(input(\"Digite 1 numero: \"))\n",
    "n7 = int(input(\"Digite 1 numero: \"))\n",
    "n8 = int(input(\"Digite 1 numero: \"))\n",
    "n9 = int(input(\"Digite 1 numero: \"))\n",
    "n10 = int(input(\"Digite 1 numero: \"))\n",
    "\n",
    "media = (n1 + n2 + n3 + n4 + n5 + n6 + n7 + n8 + n9 + n10) / 10 \n",
    "\n",
    "print(\"A media dos valores é igual a\", media)\n"
   ]
  },
  {
   "cell_type": "markdown",
   "id": "d62e27ff",
   "metadata": {},
   "source": [
    "### Q4.\n",
    "\n",
    "Você vai criar um sistema que registra os resultados dos jogos do Atlético MG ao longo de um campeonato. Seu sistema vai receber os resultados de todos os jogos do Galo, e deve calcular a pontuação do time sabendo que vitórias valem 3 pontos, empates 1 ponto e derrotas 0 pontos.\n",
    "\n",
    "Entrada: <br>\n",
    "A primeira linha de entrada é um inteiro N com a quantidade jogos do galo. Para cada jogo você deve ler 2 inteiros, o primeiro com a quantidade de gols do galo e o segundo com a quantidade de gols do time oponente. \n",
    "\n",
    "Saída: <br>\n",
    "Apresente a soma de vitórias, empates e derrotas do galo, junto com o cálculo da pontuação total.\n",
    "\n",
    "Ex:\n",
    "```\n",
    "Entrada:\n",
    "4\n",
    "2\n",
    "0\n",
    "1\n",
    "1\n",
    "0\n",
    "3\n",
    "1\n",
    "0\n",
    "\n",
    "Saída:\n",
    "Vitórias: 2\n",
    "Empates: 1\n",
    "Derrotas: 1\n",
    "Pontuação: 7\n",
    "\n",
    "```\n",
    "\n",
    "\n"
   ]
  },
  {
   "cell_type": "code",
   "execution_count": null,
   "id": "d3fdfc2a",
   "metadata": {},
   "outputs": [],
   "source": [
    "n = int(input(\"Digite o numero de Jogos\"))\n",
    "\n",
    "\n",
    "vitorias = 0\n",
    "empates = 0\n",
    "derrotas = 0\n",
    "pontuacao = 0\n",
    "\n",
    "\n",
    "for _ in range(n):\n",
    "    gols_galo = int(input(\"Digite a quantidade de gols do galo: \"))   \n",
    "    gols_adversario = int(input(\"Digite a quantidade de gols do time rival: \")) \n",
    "    \n",
    "    if gols_galo > gols_adversario:\n",
    "        vitorias += 1\n",
    "        pontuacao += 3\n",
    "    elif gols_galo == gols_adversario:\n",
    "        empates += 1\n",
    "        pontuacao += 1\n",
    "    else:\n",
    "        derrotas += 1\n",
    "\n",
    "\n",
    "print(f\"Vitórias: {vitorias}\")\n",
    "print(f\"Empates: {empates}\")\n",
    "print(f\"Derrotas: {derrotas}\")\n",
    "print(f\"Pontuação: {pontuacao}\")\n"
   ]
  },
  {
   "cell_type": "markdown",
   "id": "fc98604d",
   "metadata": {},
   "source": [
    "### Q5.\n",
    "\n",
    "Faça um programa que lê dois inteiros N e M, e imprime na tela um campo de batalha naval. O tabuleiro deve possuir N linhas e M colunas. A primeira linha é composta por um espaço em branco e o cabeçalho das colunas, ou seja, valores de 1 a M. As N linhas seguintes iniciam com o cabeçalho da linha, ou seja, seu número, seguido de M caracteres \"/\" (barra) indicando uma possível posição jogável. \n",
    "\n",
    "```\n",
    "Entrada:\n",
    "5\n",
    "4\n",
    "\n",
    "Saída:\n",
    "  1 2 3 4 \n",
    "1 / / / / \n",
    "2 / / / / \n",
    "3 / / / / \n",
    "4 / / / / \n",
    "5 / / / / \n",
    "```\n",
    "\n",
    "Para esse exercício, precisamos lembrar que o comando print implicitamente adiciona uma quebra de linha ao final da impressão. Podemos interferir no final da impressão adicionando mais uma entrada ao print. No exemplo, finalizamos cada linha com um espaço em branco:\n",
    "```python\n",
    "print(\"Texto qualquer\", end = \" \")\n",
    "```"
   ]
  },
  {
   "cell_type": "code",
   "execution_count": null,
   "id": "a60ef197",
   "metadata": {},
   "outputs": [],
   "source": [
    "N = int(input(\"Digite o numero da linha: \"))\n",
    "M = int(input(\"Digite o numero da coluna: \"))\n",
    "\n",
    "print(\" \", end=\"\")  \n",
    "for i in range(1, M + 1):\n",
    "    print(i, end=\" \")  \n",
    "print()  \n",
    "\n",
    "for i in range(1, N + 1):\n",
    "    print(i, end=\" \")  \n",
    "    for j in range(M):\n",
    "        print(\"/\", end=\" \")  \n",
    "    print()"
   ]
  },
  {
   "cell_type": "markdown",
   "id": "4654dc0b",
   "metadata": {},
   "source": [
    "---\n",
    "## Break e Continue"
   ]
  },
  {
   "cell_type": "markdown",
   "id": "24fe9d85",
   "metadata": {},
   "source": [
    "### Q6.\n",
    "\n",
    "Escreva um programa que lê uma quantidade indefinida de valores e informa o maior e o menor valor digitados. A leitura é encerrada quando o usuário digitar o valor 0 (zero).\n",
    "\n",
    "```\n",
    "Entrada:\n",
    "12\n",
    "-1\n",
    "29\n",
    "11\n",
    "-5\n",
    "0\n",
    "\n",
    "Saída:\n",
    "Maior: 29\n",
    "Menor: -5\n",
    "```"
   ]
  },
  {
   "cell_type": "code",
   "execution_count": null,
   "id": "ee1c466a",
   "metadata": {},
   "outputs": [],
   "source": [
    "maior = None\n",
    "menor = None\n",
    "\n",
    "\n",
    "while True:\n",
    "\n",
    "    valor = int(input(\"Digite um numero : \"))\n",
    "    \n",
    "    if valor == 0:\n",
    "        break\n",
    "    \n",
    "    if maior is None or valor > maior:\n",
    "        maior = valor\n",
    "    if menor is None or valor < menor:\n",
    "        menor = valor\n",
    "\n",
    "\n",
    "if maior is not None and menor is not None:\n",
    "    print(f'O maior valor digitado foi: {maior}')\n",
    "    print(f'O menor valor digitado foi: {menor}')\n",
    "else:\n",
    "    print('Nenhum numero encontrado.')\n"
   ]
  },
  {
   "cell_type": "markdown",
   "id": "30d486f7",
   "metadata": {},
   "source": [
    "### Q7.\n",
    "\n",
    "Escreva um programa que lê uma quantidade indefinida de valores e informa o **produto** dos valores positivos digitados. A leitura é encerrada quando o usuário digitar o valor 0 (zero).\n",
    "\n",
    "```\n",
    "Entrada:\n",
    "2\n",
    "-1\n",
    "1\n",
    "3\n",
    "-5\n",
    "0\n",
    "\n",
    "Saída:\n",
    "Produto: 6\n",
    "```"
   ]
  },
  {
   "cell_type": "code",
   "execution_count": null,
   "id": "2f1ac324",
   "metadata": {},
   "outputs": [],
   "source": [
    "produto = 1\n",
    "\n",
    "tem_positivo = False\n",
    "\n",
    "\n",
    "while True:\n",
    "    \n",
    "    valor = int(input(\"Digite um valor (0 para encerrar): \"))\n",
    "    \n",
    "    \n",
    "    if valor == 0:\n",
    "        break\n",
    "    \n",
    "    \n",
    "    if valor > 0:\n",
    "        produto *= valor\n",
    "        tem_positivo = True\n",
    "\n",
    "\n",
    "if tem_positivo:\n",
    "    print(f'O produto dos valores positivos digitados é: {produto}')\n",
    "else:\n",
    "    print('Nenhum valor positivo foi digitado.')\n",
    "\n"
   ]
  },
  {
   "cell_type": "markdown",
   "id": "e932f3cf",
   "metadata": {},
   "source": [
    "### Q8.\n",
    "\n",
    "Vamos fazer uma calculadora que aceita expressões aritméticas de qualquer tamanho até que o usuário digite a palavra \"Fim\". Sua calculadora executa apenas as operações \"+\", \"-\".\n",
    "\n",
    "```\n",
    "Entrada:\n",
    "5\n",
    "+\n",
    "8\n",
    "-\n",
    "3\n",
    "+\n",
    "2\n",
    "Fim\n",
    "\n",
    "Saída:\n",
    "12\n",
    "```"
   ]
  },
  {
   "cell_type": "code",
   "execution_count": null,
   "id": "e835d870",
   "metadata": {},
   "outputs": [],
   "source": [
    "\n",
    "def calcular(expressao):\n",
    "    \n",
    "    expressao = expressao.replace(\" \", \"\")\n",
    "    \n",
    "    \n",
    "    total = 0\n",
    "    num = 0\n",
    "    operacao = \"+\"\n",
    "    \n",
    "   \n",
    "    for i, char in enumerate(expressao):\n",
    "        if char.isdigit():\n",
    "            \n",
    "            num = num * 10 + int(char)\n",
    "        if char in \"+-\" or i == len(expressao) - 1:\n",
    "            \n",
    "            if operacao == \"+\":\n",
    "                total += num\n",
    "            elif operacao == \"-\":\n",
    "                total -= num\n",
    "            \n",
    "            \n",
    "            operacao = char\n",
    "            num = 0 \n",
    "    return total\n",
    "\n",
    "\n",
    "while True:\n",
    "    \n",
    "    expressao = input(\"Digite uma expressão (+, -) ou 'Fim' para encerrar: \")\n",
    "    \n",
    "    \n",
    "    if expressao.lower() == \"fim\":\n",
    "        print(\"Encerrando a calculadora.\")\n",
    "        break\n",
    "    \n",
    "   \n",
    "    resultado = calcular(expressao)\n",
    "    \n",
    "    \n",
    "    print(f\"Resultado: {resultado}\")\n"
   ]
  }
 ],
 "metadata": {
  "kernelspec": {
   "display_name": "Python 3 (ipykernel)",
   "language": "python",
   "name": "python3"
  },
  "language_info": {
   "codemirror_mode": {
    "name": "ipython",
    "version": 3
   },
   "file_extension": ".py",
   "mimetype": "text/x-python",
   "name": "python",
   "nbconvert_exporter": "python",
   "pygments_lexer": "ipython3",
   "version": "3.12.4"
  }
 },
 "nbformat": 4,
 "nbformat_minor": 5
}
