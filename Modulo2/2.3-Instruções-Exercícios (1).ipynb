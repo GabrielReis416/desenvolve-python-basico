{
  "metadata": {
    "kernelspec": {
      "name": "python",
      "display_name": "Python (Pyodide)",
      "language": "python"
    },
    "language_info": {
      "codemirror_mode": {
        "name": "python",
        "version": 3
      },
      "file_extension": ".py",
      "mimetype": "text/x-python",
      "name": "python",
      "nbconvert_exporter": "python",
      "pygments_lexer": "ipython3",
      "version": "3.8"
    },
    "colab": {
      "provenance": []
    }
  },
  "nbformat_minor": 4,
  "nbformat": 4,
  "cells": [
    {
      "cell_type": "markdown",
      "source": "# Módulo 2\n\n## 2.3 Instruções e Expressões\n\n### Q1\n\nFaça um programa que armazene o valor de 20 reais de salário por hora de um trabalhador, e o número de 40 horas trabalhadas na semana. Com essas informações, calcule e imprima:\n- Salário semanal bruto\n- Valor descontado por semana INSS (10% do bruto)\n- Valor descontado por semana pelo sindicato (5% do bruto)\n- Salário semanal líquido (Bruto - Descontos)",
      "metadata": {
        "id": "1pCTdOHonv5f"
      }
    },
    {
      "cell_type": "code",
      "source": "salarioHora = 20\nhoraSemana = 40 \n\nsalarioBruto = salarioHora * horaSemana\n\nprint (salarioBruto)\n\ndescontoInss = salarioBruto / 10\nprint (descontoInss)\n\ndescontoSindicato = descontoInss / 2 \nprint (descontoSindicato)\n\nsalarioLiquido = salarioBruto - descontoInss - descontoSindicato \nprint ( salarioLiquido)",
      "metadata": {
        "id": "hVbX0I97nj6M"
      },
      "outputs": [],
      "execution_count": null
    },
    {
      "cell_type": "markdown",
      "source": "### Q2\n\nAltere o programa anterior para a partir dos valores de horas trabalhadas por semana e salário por hora, calcular **em somente duas instruções**:\n- Salário semanal bruto\n- Salário semanal líquido com todos os descontos. Para a segunda instrução, realize todos os cálculos aritméticos em uma expressão composta.\n",
      "metadata": {
        "id": "pIxKX9J2oGZ1"
      }
    },
    {
      "cell_type": "code",
      "source": "salarioHora = 20\nhoraSemana = 40 \n\nsalarioBruto = salarioHora * horaSemana\n\nsalarioLiquido = salarioBruto * ( 1 - 0.10 - 0.05)\n\nprint ( salarioBruto )\nprint ( salarioLiquido)",
      "metadata": {
        "id": "pAHw9Xf9oGoi"
      },
      "outputs": [],
      "execution_count": null
    },
    {
      "cell_type": "markdown",
      "source": "### Q3\n\nVocê está desenvolvendo um software de conversão de moeda e precisa calcular o valor equivalente em yuan chinês a partir de uma quantia em real. A taxa de câmbio é de 0.69 BRL (real) para 1 CNY (yuan). Escreva um programa que define em uma variável uma quantia em reais (BRL) e calcula o valor equivalente em yuan (CNY). Imprima o resultado.",
      "metadata": {
        "id": "m8tlHRuWpBOB"
      }
    },
    {
      "cell_type": "code",
      "source": "brl = 100\n\ncambio = 0.69\n\ncny =  brl / cambio\n\nprint(f\"O valor equivalente em yuan (CNY) é: {cny:.2f}\")",
      "metadata": {
        "id": "2bPw7uF6oeL9"
      },
      "outputs": [],
      "execution_count": null
    },
    {
      "cell_type": "markdown",
      "source": "### Q4\n\nVocê é um treinador de corrida e deseja calcular a velocidade média que um atleta precisa manter para completar a Maratona Internacional de São Silvestre, que tem uma distância total de 42.195 km. A fórmula para calcular a velocidade média ($v\\_media$) é dada por $v\\_media = \\frac{distancia}{tempo}$ . Escreva um programa em Python para calcular a velocidade média necessária para completar a maratona em 3 horas.\n\n**Calcule e imprima o resultado em metros/segundo**, ou seja, converta a distância de quilômetros para metros ($metro = \\frac{km}{1000}$) e a velocidade de horas para segundos $(segundo = \\frac{hora}{3600})$.",
      "metadata": {
        "id": "-Na3ltDCp74A"
      }
    },
    {
      "cell_type": "code",
      "source": "distancia = 42.195\ntempo =  3 \n\ndistanciaMetros  = distancia * 1000\n\ntempoS = tempo * 3600\n\nvelocidadeMedia = distanciaMetros / tempoS\n\nprint ( velocidadeMedia )",
      "metadata": {
        "id": "Bn6l8kcSrE4L"
      },
      "outputs": [],
      "execution_count": null
    }
  ]
}